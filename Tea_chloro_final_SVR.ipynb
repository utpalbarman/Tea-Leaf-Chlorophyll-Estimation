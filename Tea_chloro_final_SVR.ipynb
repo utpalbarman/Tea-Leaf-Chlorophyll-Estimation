{
 "cells": [
  {
   "cell_type": "code",
   "execution_count": 2,
   "metadata": {},
   "outputs": [],
   "source": [
    "import pandas as pd\n",
    "import numpy as np\n",
    "import matplotlib.pyplot as plt\n",
    "from sklearn.model_selection import train_test_split\n",
    "from sklearn.metrics import mean_absolute_error\n",
    "from sklearn import metrics\n",
    "from mpl_toolkits.mplot3d import Axes3D "
   ]
  },
  {
   "cell_type": "code",
   "execution_count": 3,
   "metadata": {},
   "outputs": [],
   "source": [
    "Dataset = pd.read_csv('D:/UTPAL PHD/Tea leaf project/chlorophyll value/tea_leaf_750_image_modifiedd.csv')"
   ]
  },
  {
   "cell_type": "code",
   "execution_count": 4,
   "metadata": {},
   "outputs": [
    {
     "data": {
      "text/html": [
       "<div>\n",
       "<style scoped>\n",
       "    .dataframe tbody tr th:only-of-type {\n",
       "        vertical-align: middle;\n",
       "    }\n",
       "\n",
       "    .dataframe tbody tr th {\n",
       "        vertical-align: top;\n",
       "    }\n",
       "\n",
       "    .dataframe thead th {\n",
       "        text-align: right;\n",
       "    }\n",
       "</style>\n",
       "<table border=\"1\" class=\"dataframe\">\n",
       "  <thead>\n",
       "    <tr style=\"text-align: right;\">\n",
       "      <th></th>\n",
       "      <th>mean_r</th>\n",
       "      <th>mean_g</th>\n",
       "      <th>mean_b</th>\n",
       "      <th>stddev_r</th>\n",
       "      <th>stddev_g</th>\n",
       "      <th>stddev_b</th>\n",
       "      <th>variance</th>\n",
       "      <th>stddv_h</th>\n",
       "      <th>stddv_s</th>\n",
       "      <th>stddv_v</th>\n",
       "      <th>kurtosis</th>\n",
       "      <th>skewness</th>\n",
       "      <th>Chl Value</th>\n",
       "    </tr>\n",
       "  </thead>\n",
       "  <tbody>\n",
       "    <tr>\n",
       "      <th>count</th>\n",
       "      <td>1500.000000</td>\n",
       "      <td>1500.000000</td>\n",
       "      <td>1500.000000</td>\n",
       "      <td>1500.000000</td>\n",
       "      <td>1500.000000</td>\n",
       "      <td>1500.000000</td>\n",
       "      <td>1500.000000</td>\n",
       "      <td>1500.000000</td>\n",
       "      <td>1500.000000</td>\n",
       "      <td>1500.000000</td>\n",
       "      <td>1500.000000</td>\n",
       "      <td>1500.000000</td>\n",
       "      <td>1500.000000</td>\n",
       "    </tr>\n",
       "    <tr>\n",
       "      <th>mean</th>\n",
       "      <td>163.173775</td>\n",
       "      <td>167.120321</td>\n",
       "      <td>157.062333</td>\n",
       "      <td>43.778474</td>\n",
       "      <td>35.681186</td>\n",
       "      <td>57.174429</td>\n",
       "      <td>2364.988872</td>\n",
       "      <td>48.118899</td>\n",
       "      <td>69.688218</td>\n",
       "      <td>36.482912</td>\n",
       "      <td>7.118900</td>\n",
       "      <td>-2.180285</td>\n",
       "      <td>35.221067</td>\n",
       "    </tr>\n",
       "    <tr>\n",
       "      <th>std</th>\n",
       "      <td>36.154286</td>\n",
       "      <td>36.554225</td>\n",
       "      <td>35.788697</td>\n",
       "      <td>12.851595</td>\n",
       "      <td>10.540126</td>\n",
       "      <td>17.050112</td>\n",
       "      <td>1209.036924</td>\n",
       "      <td>10.794079</td>\n",
       "      <td>14.554460</td>\n",
       "      <td>11.228394</td>\n",
       "      <td>10.241016</td>\n",
       "      <td>1.698986</td>\n",
       "      <td>9.349187</td>\n",
       "    </tr>\n",
       "    <tr>\n",
       "      <th>min</th>\n",
       "      <td>2.259592</td>\n",
       "      <td>2.846533</td>\n",
       "      <td>1.241938</td>\n",
       "      <td>16.045376</td>\n",
       "      <td>12.751508</td>\n",
       "      <td>15.706908</td>\n",
       "      <td>251.771557</td>\n",
       "      <td>5.941523</td>\n",
       "      <td>2.954162</td>\n",
       "      <td>13.090083</td>\n",
       "      <td>-0.909649</td>\n",
       "      <td>-5.335713</td>\n",
       "      <td>9.000000</td>\n",
       "    </tr>\n",
       "    <tr>\n",
       "      <th>25%</th>\n",
       "      <td>154.771287</td>\n",
       "      <td>157.368650</td>\n",
       "      <td>149.996794</td>\n",
       "      <td>33.494795</td>\n",
       "      <td>27.720100</td>\n",
       "      <td>43.482843</td>\n",
       "      <td>1347.146488</td>\n",
       "      <td>42.623987</td>\n",
       "      <td>58.996057</td>\n",
       "      <td>28.023941</td>\n",
       "      <td>1.798585</td>\n",
       "      <td>-3.009312</td>\n",
       "      <td>29.200000</td>\n",
       "    </tr>\n",
       "    <tr>\n",
       "      <th>50%</th>\n",
       "      <td>170.668908</td>\n",
       "      <td>175.287528</td>\n",
       "      <td>164.782762</td>\n",
       "      <td>44.825860</td>\n",
       "      <td>35.475005</td>\n",
       "      <td>60.375722</td>\n",
       "      <td>2359.307752</td>\n",
       "      <td>49.706921</td>\n",
       "      <td>70.587980</td>\n",
       "      <td>36.002233</td>\n",
       "      <td>4.782312</td>\n",
       "      <td>-2.300531</td>\n",
       "      <td>34.250000</td>\n",
       "    </tr>\n",
       "    <tr>\n",
       "      <th>75%</th>\n",
       "      <td>181.489201</td>\n",
       "      <td>186.629348</td>\n",
       "      <td>174.744123</td>\n",
       "      <td>53.268765</td>\n",
       "      <td>42.832792</td>\n",
       "      <td>70.457058</td>\n",
       "      <td>3197.230915</td>\n",
       "      <td>54.690861</td>\n",
       "      <td>80.513912</td>\n",
       "      <td>43.716075</td>\n",
       "      <td>9.768074</td>\n",
       "      <td>-1.658798</td>\n",
       "      <td>39.600000</td>\n",
       "    </tr>\n",
       "    <tr>\n",
       "      <th>max</th>\n",
       "      <td>208.403165</td>\n",
       "      <td>212.272332</td>\n",
       "      <td>202.984726</td>\n",
       "      <td>75.522077</td>\n",
       "      <td>65.061582</td>\n",
       "      <td>89.811038</td>\n",
       "      <td>5790.713337</td>\n",
       "      <td>83.723033</td>\n",
       "      <td>103.071839</td>\n",
       "      <td>75.383485</td>\n",
       "      <td>156.224934</td>\n",
       "      <td>11.844060</td>\n",
       "      <td>73.700000</td>\n",
       "    </tr>\n",
       "  </tbody>\n",
       "</table>\n",
       "</div>"
      ],
      "text/plain": [
       "            mean_r       mean_g       mean_b     stddev_r     stddev_g  \\\n",
       "count  1500.000000  1500.000000  1500.000000  1500.000000  1500.000000   \n",
       "mean    163.173775   167.120321   157.062333    43.778474    35.681186   \n",
       "std      36.154286    36.554225    35.788697    12.851595    10.540126   \n",
       "min       2.259592     2.846533     1.241938    16.045376    12.751508   \n",
       "25%     154.771287   157.368650   149.996794    33.494795    27.720100   \n",
       "50%     170.668908   175.287528   164.782762    44.825860    35.475005   \n",
       "75%     181.489201   186.629348   174.744123    53.268765    42.832792   \n",
       "max     208.403165   212.272332   202.984726    75.522077    65.061582   \n",
       "\n",
       "          stddev_b     variance      stddv_h      stddv_s      stddv_v  \\\n",
       "count  1500.000000  1500.000000  1500.000000  1500.000000  1500.000000   \n",
       "mean     57.174429  2364.988872    48.118899    69.688218    36.482912   \n",
       "std      17.050112  1209.036924    10.794079    14.554460    11.228394   \n",
       "min      15.706908   251.771557     5.941523     2.954162    13.090083   \n",
       "25%      43.482843  1347.146488    42.623987    58.996057    28.023941   \n",
       "50%      60.375722  2359.307752    49.706921    70.587980    36.002233   \n",
       "75%      70.457058  3197.230915    54.690861    80.513912    43.716075   \n",
       "max      89.811038  5790.713337    83.723033   103.071839    75.383485   \n",
       "\n",
       "          kurtosis     skewness    Chl Value  \n",
       "count  1500.000000  1500.000000  1500.000000  \n",
       "mean      7.118900    -2.180285    35.221067  \n",
       "std      10.241016     1.698986     9.349187  \n",
       "min      -0.909649    -5.335713     9.000000  \n",
       "25%       1.798585    -3.009312    29.200000  \n",
       "50%       4.782312    -2.300531    34.250000  \n",
       "75%       9.768074    -1.658798    39.600000  \n",
       "max     156.224934    11.844060    73.700000  "
      ]
     },
     "execution_count": 4,
     "metadata": {},
     "output_type": "execute_result"
    }
   ],
   "source": [
    "Dataset.describe()"
   ]
  },
  {
   "cell_type": "code",
   "execution_count": 5,
   "metadata": {},
   "outputs": [
    {
     "data": {
      "text/html": [
       "<div>\n",
       "<style scoped>\n",
       "    .dataframe tbody tr th:only-of-type {\n",
       "        vertical-align: middle;\n",
       "    }\n",
       "\n",
       "    .dataframe tbody tr th {\n",
       "        vertical-align: top;\n",
       "    }\n",
       "\n",
       "    .dataframe thead th {\n",
       "        text-align: right;\n",
       "    }\n",
       "</style>\n",
       "<table border=\"1\" class=\"dataframe\">\n",
       "  <thead>\n",
       "    <tr style=\"text-align: right;\">\n",
       "      <th></th>\n",
       "      <th>mean_r</th>\n",
       "      <th>mean_g</th>\n",
       "      <th>mean_b</th>\n",
       "      <th>stddev_r</th>\n",
       "      <th>stddev_g</th>\n",
       "      <th>stddev_b</th>\n",
       "      <th>variance</th>\n",
       "      <th>stddv_h</th>\n",
       "      <th>stddv_s</th>\n",
       "      <th>stddv_v</th>\n",
       "      <th>kurtosis</th>\n",
       "      <th>skewness</th>\n",
       "      <th>Chl Value</th>\n",
       "    </tr>\n",
       "  </thead>\n",
       "  <tbody>\n",
       "    <tr>\n",
       "      <th>0</th>\n",
       "      <td>197.478471</td>\n",
       "      <td>203.192213</td>\n",
       "      <td>191.790658</td>\n",
       "      <td>55.235822</td>\n",
       "      <td>42.422848</td>\n",
       "      <td>68.479752</td>\n",
       "      <td>3201.722811</td>\n",
       "      <td>39.823970</td>\n",
       "      <td>65.016452</td>\n",
       "      <td>42.536723</td>\n",
       "      <td>2.693144</td>\n",
       "      <td>-2.003428</td>\n",
       "      <td>42.9</td>\n",
       "    </tr>\n",
       "    <tr>\n",
       "      <th>1</th>\n",
       "      <td>157.704656</td>\n",
       "      <td>161.870731</td>\n",
       "      <td>154.137681</td>\n",
       "      <td>52.779257</td>\n",
       "      <td>44.960307</td>\n",
       "      <td>61.544117</td>\n",
       "      <td>2874.905799</td>\n",
       "      <td>45.798970</td>\n",
       "      <td>72.509849</td>\n",
       "      <td>45.350869</td>\n",
       "      <td>1.417275</td>\n",
       "      <td>-1.547380</td>\n",
       "      <td>44.6</td>\n",
       "    </tr>\n",
       "    <tr>\n",
       "      <th>2</th>\n",
       "      <td>168.650369</td>\n",
       "      <td>172.254505</td>\n",
       "      <td>162.291823</td>\n",
       "      <td>55.136258</td>\n",
       "      <td>46.913445</td>\n",
       "      <td>64.705274</td>\n",
       "      <td>3159.514270</td>\n",
       "      <td>50.383784</td>\n",
       "      <td>72.455308</td>\n",
       "      <td>47.207545</td>\n",
       "      <td>1.618314</td>\n",
       "      <td>-1.658600</td>\n",
       "      <td>44.9</td>\n",
       "    </tr>\n",
       "    <tr>\n",
       "      <th>3</th>\n",
       "      <td>153.039775</td>\n",
       "      <td>155.967225</td>\n",
       "      <td>148.876568</td>\n",
       "      <td>53.016721</td>\n",
       "      <td>45.475238</td>\n",
       "      <td>61.839672</td>\n",
       "      <td>2909.436115</td>\n",
       "      <td>65.195754</td>\n",
       "      <td>76.502124</td>\n",
       "      <td>46.150734</td>\n",
       "      <td>1.320430</td>\n",
       "      <td>-1.581516</td>\n",
       "      <td>45.3</td>\n",
       "    </tr>\n",
       "    <tr>\n",
       "      <th>4</th>\n",
       "      <td>186.557493</td>\n",
       "      <td>190.859075</td>\n",
       "      <td>182.166241</td>\n",
       "      <td>59.816635</td>\n",
       "      <td>50.340256</td>\n",
       "      <td>70.457058</td>\n",
       "      <td>3704.717453</td>\n",
       "      <td>51.364393</td>\n",
       "      <td>70.523119</td>\n",
       "      <td>50.726218</td>\n",
       "      <td>2.146370</td>\n",
       "      <td>-1.901518</td>\n",
       "      <td>45.2</td>\n",
       "    </tr>\n",
       "    <tr>\n",
       "      <th>5</th>\n",
       "      <td>172.565066</td>\n",
       "      <td>178.314910</td>\n",
       "      <td>166.201175</td>\n",
       "      <td>69.045265</td>\n",
       "      <td>57.184191</td>\n",
       "      <td>80.395722</td>\n",
       "      <td>4858.062229</td>\n",
       "      <td>58.115633</td>\n",
       "      <td>81.877486</td>\n",
       "      <td>57.790797</td>\n",
       "      <td>0.138586</td>\n",
       "      <td>-1.380028</td>\n",
       "      <td>43.0</td>\n",
       "    </tr>\n",
       "    <tr>\n",
       "      <th>6</th>\n",
       "      <td>184.155285</td>\n",
       "      <td>190.669641</td>\n",
       "      <td>176.404890</td>\n",
       "      <td>68.522836</td>\n",
       "      <td>55.055247</td>\n",
       "      <td>81.613041</td>\n",
       "      <td>4829.714656</td>\n",
       "      <td>56.700919</td>\n",
       "      <td>77.134738</td>\n",
       "      <td>55.598282</td>\n",
       "      <td>0.308306</td>\n",
       "      <td>-1.428101</td>\n",
       "      <td>43.5</td>\n",
       "    </tr>\n",
       "    <tr>\n",
       "      <th>7</th>\n",
       "      <td>188.522623</td>\n",
       "      <td>198.130165</td>\n",
       "      <td>177.987543</td>\n",
       "      <td>63.491273</td>\n",
       "      <td>45.225953</td>\n",
       "      <td>82.498890</td>\n",
       "      <td>4361.867145</td>\n",
       "      <td>58.671915</td>\n",
       "      <td>82.276330</td>\n",
       "      <td>45.816013</td>\n",
       "      <td>0.721993</td>\n",
       "      <td>-1.485391</td>\n",
       "      <td>41.3</td>\n",
       "    </tr>\n",
       "    <tr>\n",
       "      <th>8</th>\n",
       "      <td>186.053256</td>\n",
       "      <td>194.747345</td>\n",
       "      <td>177.139563</td>\n",
       "      <td>64.144374</td>\n",
       "      <td>47.497803</td>\n",
       "      <td>80.697726</td>\n",
       "      <td>4345.896705</td>\n",
       "      <td>58.090442</td>\n",
       "      <td>79.072810</td>\n",
       "      <td>48.052989</td>\n",
       "      <td>0.599916</td>\n",
       "      <td>-1.475026</td>\n",
       "      <td>43.4</td>\n",
       "    </tr>\n",
       "    <tr>\n",
       "      <th>9</th>\n",
       "      <td>171.007430</td>\n",
       "      <td>176.438744</td>\n",
       "      <td>165.084787</td>\n",
       "      <td>68.583352</td>\n",
       "      <td>57.021176</td>\n",
       "      <td>79.692518</td>\n",
       "      <td>4790.161508</td>\n",
       "      <td>61.468170</td>\n",
       "      <td>80.032997</td>\n",
       "      <td>57.901486</td>\n",
       "      <td>0.091389</td>\n",
       "      <td>-1.348024</td>\n",
       "      <td>43.0</td>\n",
       "    </tr>\n",
       "  </tbody>\n",
       "</table>\n",
       "</div>"
      ],
      "text/plain": [
       "       mean_r      mean_g      mean_b   stddev_r   stddev_g   stddev_b  \\\n",
       "0  197.478471  203.192213  191.790658  55.235822  42.422848  68.479752   \n",
       "1  157.704656  161.870731  154.137681  52.779257  44.960307  61.544117   \n",
       "2  168.650369  172.254505  162.291823  55.136258  46.913445  64.705274   \n",
       "3  153.039775  155.967225  148.876568  53.016721  45.475238  61.839672   \n",
       "4  186.557493  190.859075  182.166241  59.816635  50.340256  70.457058   \n",
       "5  172.565066  178.314910  166.201175  69.045265  57.184191  80.395722   \n",
       "6  184.155285  190.669641  176.404890  68.522836  55.055247  81.613041   \n",
       "7  188.522623  198.130165  177.987543  63.491273  45.225953  82.498890   \n",
       "8  186.053256  194.747345  177.139563  64.144374  47.497803  80.697726   \n",
       "9  171.007430  176.438744  165.084787  68.583352  57.021176  79.692518   \n",
       "\n",
       "      variance    stddv_h    stddv_s    stddv_v  kurtosis  skewness  Chl Value  \n",
       "0  3201.722811  39.823970  65.016452  42.536723  2.693144 -2.003428       42.9  \n",
       "1  2874.905799  45.798970  72.509849  45.350869  1.417275 -1.547380       44.6  \n",
       "2  3159.514270  50.383784  72.455308  47.207545  1.618314 -1.658600       44.9  \n",
       "3  2909.436115  65.195754  76.502124  46.150734  1.320430 -1.581516       45.3  \n",
       "4  3704.717453  51.364393  70.523119  50.726218  2.146370 -1.901518       45.2  \n",
       "5  4858.062229  58.115633  81.877486  57.790797  0.138586 -1.380028       43.0  \n",
       "6  4829.714656  56.700919  77.134738  55.598282  0.308306 -1.428101       43.5  \n",
       "7  4361.867145  58.671915  82.276330  45.816013  0.721993 -1.485391       41.3  \n",
       "8  4345.896705  58.090442  79.072810  48.052989  0.599916 -1.475026       43.4  \n",
       "9  4790.161508  61.468170  80.032997  57.901486  0.091389 -1.348024       43.0  "
      ]
     },
     "execution_count": 5,
     "metadata": {},
     "output_type": "execute_result"
    }
   ],
   "source": [
    "Dataset.head(10)"
   ]
  },
  {
   "cell_type": "code",
   "execution_count": 6,
   "metadata": {},
   "outputs": [],
   "source": [
    "X = Dataset.iloc[:,:-1].values\n",
    "Y = Dataset.iloc[:,-1].values"
   ]
  },
  {
   "cell_type": "code",
   "execution_count": 7,
   "metadata": {},
   "outputs": [],
   "source": [
    "from sklearn.preprocessing import StandardScaler\n",
    "scaler = StandardScaler()\n",
    "scaler.fit(X)\n",
    "X = scaler.transform(X)"
   ]
  },
  {
   "cell_type": "code",
   "execution_count": 8,
   "metadata": {},
   "outputs": [],
   "source": [
    "X_train, X_test, Y_train, Y_test = train_test_split(X, Y, test_size=0.20, random_state=42)"
   ]
  },
  {
   "cell_type": "code",
   "execution_count": 9,
   "metadata": {},
   "outputs": [
    {
     "name": "stdout",
     "output_type": "stream",
     "text": [
      "(1200, 12)\n"
     ]
    }
   ],
   "source": [
    "print(X_train.shape)"
   ]
  },
  {
   "cell_type": "code",
   "execution_count": 10,
   "metadata": {},
   "outputs": [
    {
     "name": "stdout",
     "output_type": "stream",
     "text": [
      "(300, 12)\n"
     ]
    }
   ],
   "source": [
    "print(X_test.shape)"
   ]
  },
  {
   "cell_type": "code",
   "execution_count": 16,
   "metadata": {},
   "outputs": [
    {
     "data": {
      "text/plain": [
       "SVR(C=1.0, cache_size=200, coef0=0.0, degree=1, epsilon=0.1,\n",
       "    gamma='auto_deprecated', kernel='linear', max_iter=-1, shrinking=True,\n",
       "    tol=0.001, verbose=False)"
      ]
     },
     "execution_count": 16,
     "metadata": {},
     "output_type": "execute_result"
    }
   ],
   "source": [
    "from sklearn.svm import SVR\n",
    "svr_regressor=SVR(kernel='linear',degree=1)\n",
    "svr_regressor.fit(X_train, Y_train)"
   ]
  },
  {
   "cell_type": "code",
   "execution_count": 17,
   "metadata": {},
   "outputs": [],
   "source": [
    "y_pred = svr_regressor.predict(X_test)"
   ]
  },
  {
   "cell_type": "code",
   "execution_count": 19,
   "metadata": {},
   "outputs": [
    {
     "data": {
      "text/html": [
       "<div>\n",
       "<style scoped>\n",
       "    .dataframe tbody tr th:only-of-type {\n",
       "        vertical-align: middle;\n",
       "    }\n",
       "\n",
       "    .dataframe tbody tr th {\n",
       "        vertical-align: top;\n",
       "    }\n",
       "\n",
       "    .dataframe thead th {\n",
       "        text-align: right;\n",
       "    }\n",
       "</style>\n",
       "<table border=\"1\" class=\"dataframe\">\n",
       "  <thead>\n",
       "    <tr style=\"text-align: right;\">\n",
       "      <th></th>\n",
       "      <th>Actual</th>\n",
       "      <th>Predicted</th>\n",
       "    </tr>\n",
       "  </thead>\n",
       "  <tbody>\n",
       "    <tr>\n",
       "      <th>0</th>\n",
       "      <td>33.6</td>\n",
       "      <td>34.482552</td>\n",
       "    </tr>\n",
       "    <tr>\n",
       "      <th>1</th>\n",
       "      <td>47.9</td>\n",
       "      <td>38.126167</td>\n",
       "    </tr>\n",
       "    <tr>\n",
       "      <th>2</th>\n",
       "      <td>38.6</td>\n",
       "      <td>37.583942</td>\n",
       "    </tr>\n",
       "    <tr>\n",
       "      <th>3</th>\n",
       "      <td>33.6</td>\n",
       "      <td>40.150513</td>\n",
       "    </tr>\n",
       "    <tr>\n",
       "      <th>4</th>\n",
       "      <td>38.3</td>\n",
       "      <td>36.083033</td>\n",
       "    </tr>\n",
       "    <tr>\n",
       "      <th>5</th>\n",
       "      <td>37.4</td>\n",
       "      <td>38.327261</td>\n",
       "    </tr>\n",
       "    <tr>\n",
       "      <th>6</th>\n",
       "      <td>33.3</td>\n",
       "      <td>33.114567</td>\n",
       "    </tr>\n",
       "    <tr>\n",
       "      <th>7</th>\n",
       "      <td>27.3</td>\n",
       "      <td>32.769636</td>\n",
       "    </tr>\n",
       "    <tr>\n",
       "      <th>8</th>\n",
       "      <td>35.6</td>\n",
       "      <td>33.772166</td>\n",
       "    </tr>\n",
       "    <tr>\n",
       "      <th>9</th>\n",
       "      <td>37.2</td>\n",
       "      <td>27.801557</td>\n",
       "    </tr>\n",
       "    <tr>\n",
       "      <th>10</th>\n",
       "      <td>31.4</td>\n",
       "      <td>33.831384</td>\n",
       "    </tr>\n",
       "    <tr>\n",
       "      <th>11</th>\n",
       "      <td>45.1</td>\n",
       "      <td>39.467533</td>\n",
       "    </tr>\n",
       "    <tr>\n",
       "      <th>12</th>\n",
       "      <td>25.0</td>\n",
       "      <td>27.539669</td>\n",
       "    </tr>\n",
       "    <tr>\n",
       "      <th>13</th>\n",
       "      <td>29.9</td>\n",
       "      <td>28.702384</td>\n",
       "    </tr>\n",
       "    <tr>\n",
       "      <th>14</th>\n",
       "      <td>33.8</td>\n",
       "      <td>36.387931</td>\n",
       "    </tr>\n",
       "    <tr>\n",
       "      <th>15</th>\n",
       "      <td>44.0</td>\n",
       "      <td>49.424312</td>\n",
       "    </tr>\n",
       "    <tr>\n",
       "      <th>16</th>\n",
       "      <td>27.3</td>\n",
       "      <td>32.769636</td>\n",
       "    </tr>\n",
       "    <tr>\n",
       "      <th>17</th>\n",
       "      <td>46.5</td>\n",
       "      <td>44.135936</td>\n",
       "    </tr>\n",
       "    <tr>\n",
       "      <th>18</th>\n",
       "      <td>46.1</td>\n",
       "      <td>44.019699</td>\n",
       "    </tr>\n",
       "    <tr>\n",
       "      <th>19</th>\n",
       "      <td>36.7</td>\n",
       "      <td>27.109360</td>\n",
       "    </tr>\n",
       "  </tbody>\n",
       "</table>\n",
       "</div>"
      ],
      "text/plain": [
       "    Actual  Predicted\n",
       "0     33.6  34.482552\n",
       "1     47.9  38.126167\n",
       "2     38.6  37.583942\n",
       "3     33.6  40.150513\n",
       "4     38.3  36.083033\n",
       "5     37.4  38.327261\n",
       "6     33.3  33.114567\n",
       "7     27.3  32.769636\n",
       "8     35.6  33.772166\n",
       "9     37.2  27.801557\n",
       "10    31.4  33.831384\n",
       "11    45.1  39.467533\n",
       "12    25.0  27.539669\n",
       "13    29.9  28.702384\n",
       "14    33.8  36.387931\n",
       "15    44.0  49.424312\n",
       "16    27.3  32.769636\n",
       "17    46.5  44.135936\n",
       "18    46.1  44.019699\n",
       "19    36.7  27.109360"
      ]
     },
     "execution_count": 19,
     "metadata": {},
     "output_type": "execute_result"
    }
   ],
   "source": [
    "df = pd.DataFrame({'Actual': Y_test, 'Predicted': y_pred})\n",
    "df1 = df.head(20)\n",
    "\n",
    "df1"
   ]
  },
  {
   "cell_type": "code",
   "execution_count": 20,
   "metadata": {},
   "outputs": [
    {
     "name": "stdout",
     "output_type": "stream",
     "text": [
      "Mean Absolute Error(MAE) 3.8218035380317823\n",
      "Mean Squared Error(MSE) 25.852838723668853\n",
      "Root Mean Squared Error(RMSE) 5.084568686100017\n",
      "R Squared 0.704572798268063\n"
     ]
    },
    {
     "data": {
      "image/png": "[encoded data removed]",
      "text/plain": [
       "<Figure size 432x288 with 1 Axes>"
      ]
     },
     "metadata": {
      "needs_background": "light"
     },
     "output_type": "display_data"
    }
   ],
   "source": [
    "print ('Mean Absolute Error(MAE)',metrics.mean_absolute_error(Y_test, y_pred))\n",
    "print ('Mean Squared Error(MSE)',metrics.mean_squared_error(Y_test, y_pred))\n",
    "print ('Root Mean Squared Error(RMSE)',np.sqrt(metrics.mean_squared_error(Y_test, y_pred)))     #test_size = 0.40\n",
    "print('R Squared',metrics.r2_score(Y_test, y_pred))\n",
    "plt.scatter(Y_test, y_pred)\n",
    "plt.xlabel('True Values [chlorophyll]')\n",
    "plt.ylabel('Predictions [chlorophyll]')\n",
    "plt.axis('equal')\n",
    "plt.axis('square')\n",
    "plt.xlim([0,plt.xlim()[1]])\n",
    "plt.ylim([0,plt.ylim()[1]])\n",
    "\n",
    "_ = plt.plot([-100, 100], [-100, 100])\n",
    "plt.savefig('D:/UTPAL PHD/Tea Leaf Journal Paper/Pic/SVR.png', dpi=450, bbox_inches='tight')"
   ]
  },
  {
   "cell_type": "code",
   "execution_count": 21,
   "metadata": {},
   "outputs": [
    {
     "data": {
      "image/png": "[encoded data removed]",
      "text/plain": [
       "<Figure size 2160x576 with 1 Axes>"
      ]
     },
     "metadata": {
      "needs_background": "light"
     },
     "output_type": "display_data"
    }
   ],
   "source": [
    "df1.plot(kind='bar',figsize=(30,8))\n",
    "plt.rcParams['axes.labelsize'] = 12\n",
    "plt.rcParams['axes.labelweight'] = 'bold'\n",
    "plt.grid(which='major', linestyle='-', linewidth='0.5', color='green')\n",
    "plt.grid(which='minor', linestyle=':', linewidth='0.5', color='black')\n",
    "plt.xlabel('Test Samples')\n",
    "plt.ylabel('Predictions/Actuals Chlorophyll Values')\n",
    "plt.savefig('D:/UTPAL PHD/Tea Leaf Journal Paper/Pic/SVR_predicted.png', dpi=450, bbox_inches='tight')\n",
    "plt.show()"
   ]
  },
  {
   "cell_type": "code",
   "execution_count": 23,
   "metadata": {},
   "outputs": [
    {
     "name": "stderr",
     "output_type": "stream",
     "text": [
      "C:\\Users\\shanta kumar\\Anaconda3\\lib\\site-packages\\sklearn\\svm\\base.py:193: FutureWarning: The default value of gamma will change from 'auto' to 'scale' in version 0.22 to account better for unscaled features. Set gamma explicitly to 'auto' or 'scale' to avoid this warning.\n",
      "  \"avoid this warning.\", FutureWarning)\n"
     ]
    },
    {
     "data": {
      "text/plain": [
       "SVR(C=1.0, cache_size=200, coef0=0.0, degree=1, epsilon=0.1,\n",
       "    gamma='auto_deprecated', kernel='rbf', max_iter=-1, shrinking=True,\n",
       "    tol=0.001, verbose=False)"
      ]
     },
     "execution_count": 23,
     "metadata": {},
     "output_type": "execute_result"
    }
   ],
   "source": [
    "from sklearn.svm import SVR\n",
    "svr_regressor=SVR(kernel='rbf',degree=1)\n",
    "svr_regressor.fit(X_train, Y_train)"
   ]
  },
  {
   "cell_type": "code",
   "execution_count": 24,
   "metadata": {},
   "outputs": [],
   "source": [
    "y_pred = svr_regressor.predict(X_test)"
   ]
  },
  {
   "cell_type": "code",
   "execution_count": 25,
   "metadata": {},
   "outputs": [
    {
     "name": "stdout",
     "output_type": "stream",
     "text": [
      "Mean Absolute Error(MAE) 3.7281406603071976\n",
      "Mean Squared Error(MSE) 26.938017471293655\n",
      "Root Mean Squared Error(RMSE) 5.190184724197556\n",
      "R Squared 0.6921721747150196\n"
     ]
    },
    {
     "data": {
      "image/png": "[encoded data removed]",
      "text/plain": [
       "<Figure size 432x288 with 1 Axes>"
      ]
     },
     "metadata": {
      "needs_background": "light"
     },
     "output_type": "display_data"
    }
   ],
   "source": [
    "print ('Mean Absolute Error(MAE)',metrics.mean_absolute_error(Y_test, y_pred))\n",
    "print ('Mean Squared Error(MSE)',metrics.mean_squared_error(Y_test, y_pred))\n",
    "print ('Root Mean Squared Error(RMSE)',np.sqrt(metrics.mean_squared_error(Y_test, y_pred)))     #test_size = 0.40\n",
    "print('R Squared',metrics.r2_score(Y_test, y_pred))\n",
    "plt.scatter(Y_test, y_pred)\n",
    "plt.xlabel('True Values [chlorophyll]')\n",
    "plt.ylabel('Predictions [chlorophyll]')\n",
    "plt.axis('equal')\n",
    "plt.axis('square')\n",
    "plt.xlim([0,plt.xlim()[1]])\n",
    "plt.ylim([0,plt.ylim()[1]])\n",
    "\n",
    "_ = plt.plot([-100, 100], [-100, 100])\n",
    "plt.savefig('D:/UTPAL PHD/Tea Leaf Journal Paper/Pic/SVR_rbf.png', dpi=450, bbox_inches='tight')"
   ]
  },
  {
   "cell_type": "code",
   "execution_count": 27,
   "metadata": {},
   "outputs": [],
   "source": [
    "from sklearn.neighbors import KNeighborsRegressor \n",
    "for K in range(20):\n",
    "    K = K+1\n",
    "    neigh = KNeighborsRegressor(n_neighbors=K)\n",
    "    neigh.fit(X_train, Y_train)"
   ]
  },
  {
   "cell_type": "code",
   "execution_count": 37,
   "metadata": {},
   "outputs": [
    {
     "data": {
      "text/plain": [
       "KNeighborsRegressor(algorithm='auto', leaf_size=30, metric='minkowski',\n",
       "                    metric_params=None, n_jobs=None, n_neighbors=3, p=2,\n",
       "                    weights='uniform')"
      ]
     },
     "execution_count": 37,
     "metadata": {},
     "output_type": "execute_result"
    }
   ],
   "source": [
    "from sklearn.neighbors import KNeighborsRegressor                    #k=3\n",
    "neigh = KNeighborsRegressor(n_neighbors=3)\n",
    "neigh.fit(X_train, Y_train)\n"
   ]
  },
  {
   "cell_type": "code",
   "execution_count": 38,
   "metadata": {},
   "outputs": [],
   "source": [
    "y_pred = neigh.predict(X_test) "
   ]
  },
  {
   "cell_type": "code",
   "execution_count": 39,
   "metadata": {},
   "outputs": [
    {
     "name": "stdout",
     "output_type": "stream",
     "text": [
      "MAE value for k=  20 is: 2.7668888888888885\n",
      "MSE value for k=  20 is: 14.989503703703697\n",
      "RMSE value for k=  20 is: 3.8716280430464516\n",
      "R2 value for k=  20 is: 0.8287109906239629\n"
     ]
    }
   ],
   "source": [
    "\n",
    "    print ('MAE value for k= ' , K , 'is:',metrics.mean_absolute_error(Y_test, y_pred))\n",
    "    print ('MSE value for k= ' , K , 'is:',metrics.mean_squared_error(Y_test, y_pred))\n",
    "    \n",
    "    print ('RMSE value for k= ' , K , 'is:',np.sqrt(metrics.mean_squared_error(Y_test, y_pred)))     \n",
    "    \n",
    "    print('R2 value for k= ' , K , 'is:',metrics.r2_score(Y_test, y_pred))\n"
   ]
  },
  {
   "cell_type": "code",
   "execution_count": 40,
   "metadata": {},
   "outputs": [
    {
     "name": "stdout",
     "output_type": "stream",
     "text": [
      "Mean Absolute Error(MAE) 2.7668888888888885\n",
      "Mean Squared Error(MSE) 14.989503703703697\n",
      "Root Mean Squared Error(RMSE) 3.8716280430464516\n",
      "R Squared 0.8287109906239629\n"
     ]
    },
    {
     "data": {
      "image/png": "[encoded data removed]",
      "text/plain": [
       "<Figure size 432x288 with 1 Axes>"
      ]
     },
     "metadata": {
      "needs_background": "light"
     },
     "output_type": "display_data"
    }
   ],
   "source": [
    "print ('Mean Absolute Error(MAE)',metrics.mean_absolute_error(Y_test, y_pred))\n",
    "print ('Mean Squared Error(MSE)',metrics.mean_squared_error(Y_test, y_pred))\n",
    "print ('Root Mean Squared Error(RMSE)',np.sqrt(metrics.mean_squared_error(Y_test, y_pred)))     #test_size = 0.40\n",
    "print('R Squared',metrics.r2_score(Y_test, y_pred))\n",
    "plt.scatter(Y_test, y_pred)\n",
    "plt.xlabel('True Values [chlorophyll]')\n",
    "plt.ylabel('Predictions [chlorophyll]')\n",
    "plt.axis('equal')\n",
    "plt.axis('square')\n",
    "plt.xlim([0,plt.xlim()[1]])\n",
    "plt.ylim([0,plt.ylim()[1]])\n",
    "\n",
    "_ = plt.plot([-100, 100], [-100, 100])\n",
    "plt.savefig('D:/UTPAL PHD/Tea Leaf Journal Paper/Pic/KNN.png', dpi=450, bbox_inches='tight')"
   ]
  },
  {
   "cell_type": "code",
   "execution_count": 41,
   "metadata": {},
   "outputs": [
    {
     "name": "stdout",
     "output_type": "stream",
     "text": [
      "MAE value for k=  20 is: 2.4004999999999996\n",
      "MSE value for k=  20 is: 11.951641666666667\n",
      "RMSE value for k=  20 is: 3.4571146447097565\n",
      "R2 value for k=  20 is: 0.8634254407639346\n"
     ]
    }
   ],
   "source": [
    "from sklearn.neighbors import KNeighborsRegressor                    #k=3\n",
    "neigh = KNeighborsRegressor(n_neighbors=2)\n",
    "neigh.fit(X_train, Y_train)\n",
    "y_pred = neigh.predict(X_test) \n",
    "print ('MAE value for k= ' , K , 'is:',metrics.mean_absolute_error(Y_test, y_pred))\n",
    "print ('MSE value for k= ' , K , 'is:',metrics.mean_squared_error(Y_test, y_pred))\n",
    "    \n",
    "print ('RMSE value for k= ' , K , 'is:',np.sqrt(metrics.mean_squared_error(Y_test, y_pred)))     \n",
    "    \n",
    "print('R2 value for k= ' , K , 'is:',metrics.r2_score(Y_test, y_pred))"
   ]
  },
  {
   "cell_type": "code",
   "execution_count": 42,
   "metadata": {},
   "outputs": [
    {
     "name": "stdout",
     "output_type": "stream",
     "text": [
      "MAE value for k=  20 is: 2.8298333333333328\n",
      "MSE value for k=  20 is: 15.251841666666662\n",
      "RMSE value for k=  20 is: 3.9053606320884966\n",
      "R2 value for k=  20 is: 0.8257131855807879\n"
     ]
    }
   ],
   "source": [
    "from sklearn.neighbors import KNeighborsRegressor                    #k=3\n",
    "neigh = KNeighborsRegressor(n_neighbors=4)\n",
    "neigh.fit(X_train, Y_train)\n",
    "y_pred = neigh.predict(X_test) \n",
    "print ('MAE value for k= ' , K , 'is:',metrics.mean_absolute_error(Y_test, y_pred))\n",
    "print ('MSE value for k= ' , K , 'is:',metrics.mean_squared_error(Y_test, y_pred))\n",
    "    \n",
    "print ('RMSE value for k= ' , K , 'is:',np.sqrt(metrics.mean_squared_error(Y_test, y_pred)))     \n",
    "    \n",
    "print('R2 value for k= ' , K , 'is:',metrics.r2_score(Y_test, y_pred))"
   ]
  },
  {
   "cell_type": "code",
   "execution_count": 43,
   "metadata": {},
   "outputs": [
    {
     "name": "stdout",
     "output_type": "stream",
     "text": [
      "MAE value for k=  20 is: 3.0137999999999994\n",
      "MSE value for k=  20 is: 16.633886666666665\n",
      "RMSE value for k=  20 is: 4.078466214971832\n",
      "R2 value for k=  20 is: 0.8099201931213635\n"
     ]
    }
   ],
   "source": [
    "from sklearn.neighbors import KNeighborsRegressor                    #k=3\n",
    "neigh = KNeighborsRegressor(n_neighbors=5)\n",
    "neigh.fit(X_train, Y_train)\n",
    "y_pred = neigh.predict(X_test) \n",
    "print ('MAE value for k= ' , K , 'is:',metrics.mean_absolute_error(Y_test, y_pred))\n",
    "print ('MSE value for k= ' , K , 'is:',metrics.mean_squared_error(Y_test, y_pred))\n",
    "    \n",
    "print ('RMSE value for k= ' , K , 'is:',np.sqrt(metrics.mean_squared_error(Y_test, y_pred)))     \n",
    "    \n",
    "print('R2 value for k= ' , K , 'is:',metrics.r2_score(Y_test, y_pred))"
   ]
  },
  {
   "cell_type": "code",
   "execution_count": 45,
   "metadata": {},
   "outputs": [
    {
     "name": "stdout",
     "output_type": "stream",
     "text": [
      "MAE value for k=  20 is: 0.89\n",
      "MSE value for k=  20 is: 5.563933333333334\n",
      "RMSE value for k=  20 is: 2.358799129500716\n",
      "R2 value for k=  20 is: 0.9364194673993446\n"
     ]
    }
   ],
   "source": [
    "from sklearn.neighbors import KNeighborsRegressor                    #k=3\n",
    "neigh = KNeighborsRegressor(n_neighbors=1)\n",
    "neigh.fit(X_train, Y_train)\n",
    "y_pred = neigh.predict(X_test) \n",
    "print ('MAE value for k= ' , K , 'is:',metrics.mean_absolute_error(Y_test, y_pred))\n",
    "print ('MSE value for k= ' , K , 'is:',metrics.mean_squared_error(Y_test, y_pred))\n",
    "    \n",
    "print ('RMSE value for k= ' , K , 'is:',np.sqrt(metrics.mean_squared_error(Y_test, y_pred)))     \n",
    "    \n",
    "print('R2 value for k= ' , K , 'is:',metrics.r2_score(Y_test, y_pred))"
   ]
  },
  {
   "cell_type": "code",
   "execution_count": null,
   "metadata": {},
   "outputs": [],
   "source": []
  }
 ],
 "metadata": {
  "kernelspec": {
   "display_name": "Python 3",
   "language": "python",
   "name": "python3"
  },
  "language_info": {
   "codemirror_mode": {
    "name": "ipython",
    "version": 3
   },
   "file_extension": ".py",
   "mimetype": "text/x-python",
   "name": "python",
   "nbconvert_exporter": "python",
   "pygments_lexer": "ipython3",
   "version": "3.7.3"
  }
 },
 "nbformat": 4,
 "nbformat_minor": 2
}
